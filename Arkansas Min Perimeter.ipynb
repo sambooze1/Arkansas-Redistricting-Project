{
 "cells": [
  {
   "cell_type": "code",
   "execution_count": 1,
   "id": "fc10d9c0",
   "metadata": {},
   "outputs": [],
   "source": [
    "import gerrychain\n",
    "import geopandas as gpd\n",
    "from gerrychain import Graph\n",
    "import gurobipy as gp\n",
    "from gurobipy import GRB"
   ]
  },
  {
   "cell_type": "code",
   "execution_count": 2,
   "id": "c37ae5d4",
   "metadata": {},
   "outputs": [],
   "source": [
    "filepath = 'C:\\\\Users\\\\sambo\\\\OneDrive\\\\Desktop\\\\IEM4013 Redistricting Project\\\\'\n",
    "filename= 'AR_county.json'\n",
    "\n",
    "G = Graph.from_json(filepath + filename)"
   ]
  },
  {
   "cell_type": "code",
   "execution_count": 3,
   "id": "cc396e44",
   "metadata": {},
   "outputs": [],
   "source": [
    "for node in G.nodes:\n",
    "    G.nodes[node]['TOTPOP'] = G.nodes[node]['P0010001']"
   ]
  },
  {
   "cell_type": "code",
   "execution_count": 4,
   "id": "5433ad32",
   "metadata": {},
   "outputs": [
    {
     "name": "stdout",
     "output_type": "stream",
     "text": [
      "Using L = 750999 and U = 754763 and k = 4\n"
     ]
    }
   ],
   "source": [
    "dev = 0.005\n",
    "\n",
    "import math\n",
    "k = 4\n",
    "tot_pop = sum(G.nodes[node]['TOTPOP'] for node in G.nodes)\n",
    "\n",
    "L = math.ceil((1-dev/2)*tot_pop/k)\n",
    "U = math.floor((1+dev/2)*tot_pop/k)\n",
    "print(\"Using L =\",L,\"and U =\",U,\"and k =\",k)"
   ]
  },
  {
   "cell_type": "code",
   "execution_count": 5,
   "id": "ec1e0999",
   "metadata": {},
   "outputs": [
    {
     "name": "stdout",
     "output_type": "stream",
     "text": [
      "Set parameter Username\n",
      "Set parameter LicenseID to value 2663177\n",
      "Academic license - for non-commercial use only - expires 2026-05-09\n"
     ]
    }
   ],
   "source": [
    "import gurobipy as gp\n",
    "from gurobipy import GRB\n",
    "\n",
    "# create model \n",
    "m = gp.Model()\n",
    "\n",
    "# create variables\n",
    "x = m.addVars(G.nodes, k, vtype=GRB.BINARY) # x[i,j] equals one when county i is assigned to district j\n",
    "y = m.addVars(G.edges, vtype=GRB.BINARY)    # y[u,v] equals one when edge {u,v} is cut"
   ]
  },
  {
   "cell_type": "code",
   "execution_count": 6,
   "id": "df4903d0",
   "metadata": {},
   "outputs": [],
   "source": [
    "m.setObjective( gp.quicksum( G.edges[u,v]['shared_perim'] * y[u,v] for u,v in G.edges ), GRB.MINIMIZE )"
   ]
  },
  {
   "cell_type": "code",
   "execution_count": 7,
   "id": "e9bbf4af",
   "metadata": {},
   "outputs": [],
   "source": [
    "m.addConstrs( gp.quicksum( x[i,j] for j in range(k)) == 1 for i in G.nodes )\n",
    "\n",
    "# add constraints saying that each district has population at least L and at most U\n",
    "m.addConstrs( gp.quicksum( G.nodes[i]['TOTPOP'] * x[i,j] for i in G.nodes) >= L for j in range(k) )\n",
    "m.addConstrs( gp.quicksum( G.nodes[i]['TOTPOP'] * x[i,j] for i in G.nodes) <= U for j in range(k) )\n",
    "\n",
    "# add constraints saying that edge {u,v} is cut if u is assigned to district j but v is not.\n",
    "m.addConstrs( x[u,j] - x[v,j] <= y[u,v] for u,v in G.edges for j in range(k) )\n",
    "\n",
    "m.update()"
   ]
  },
  {
   "cell_type": "code",
   "execution_count": 8,
   "id": "4d550136",
   "metadata": {},
   "outputs": [],
   "source": [
    "# Add root variables: r[i,j] equals 1 if node i is the \"root\" of district j\n",
    "r = m.addVars( G.nodes, k, vtype=GRB.BINARY)\n",
    "\n",
    "# To solve the MIP faster, fix some district roots:\n",
    "\n",
    "r[20,0].LB = 1  # fix Oklahoma county as root of district 0\n",
    "r[37,1].LB = 1 # fix Tulsa county as root of district 1\n",
    "r[62,2].LB = 1  # fix Comanche county as root of district 2\n",
    "r[56,3].LB = 1\n",
    "# Add flow variables: f[u,v] = amount of flow sent across arc uv \n",
    "#  Flows are sent across arcs of the directed version of G which we call DG\n",
    "\n",
    "import networkx as nx\n",
    "DG = nx.DiGraph(G)      # directed version of G\n",
    "\n",
    "f = m.addVars( DG.edges )"
   ]
  },
  {
   "cell_type": "code",
   "execution_count": 9,
   "id": "f61109e0",
   "metadata": {},
   "outputs": [],
   "source": [
    "# The big-M proposed by Hojny et al.\n",
    "M = G.number_of_nodes() - k + 1\n",
    "\n",
    "# Each district j should have one root\n",
    "m.addConstrs( gp.quicksum( r[i,j] for i in G.nodes ) == 1 for j in range(k) )\n",
    "\n",
    "# If node i is not assigned to district j, then it cannot be its root\n",
    "m.addConstrs( r[i,j] <= x[i,j] for i in G.nodes for j in range(k) ) \n",
    "\n",
    "# if not a root, consume some flow.\n",
    "# if a root, only send out (so much) flow.\n",
    "m.addConstrs( gp.quicksum( f[j,i] - f[i,j] for j in G.neighbors(i) ) \n",
    "             >= 1 - M * gp.quicksum( r[i,j] for j in range(k) ) for i in G.nodes )\n",
    "\n",
    "# do not send flow across cut edges\n",
    "m.addConstrs( f[i,j] + f[j,i] <= M * ( 1 - y[i,j] ) for i,j in G.edges )\n",
    "\n",
    "m.update()"
   ]
  },
  {
   "cell_type": "code",
   "execution_count": 10,
   "id": "f8339c36",
   "metadata": {},
   "outputs": [
    {
     "name": "stdout",
     "output_type": "stream",
     "text": [
      "Gurobi Optimizer version 12.0.2 build v12.0.2rc0 (win64 - Windows 11.0 (26100.2))\n",
      "\n",
      "CPU model: Intel(R) Core(TM) Ultra 7 155H, instruction set [SSE2|AVX|AVX2]\n",
      "Thread count: 16 physical cores, 22 logical processors, using up to 22 threads\n",
      "\n",
      "Optimize a model with 1422 rows, 1176 columns and 5748 nonzeros\n",
      "Model fingerprint: 0xeffaf14e\n",
      "Variable types: 384 continuous, 792 integer (792 binary)\n",
      "Coefficient statistics:\n",
      "  Matrix range     [1e+00, 4e+05]\n",
      "  Objective range  [2e-03, 1e+00]\n",
      "  Bounds range     [1e+00, 1e+00]\n",
      "  RHS range        [1e+00, 8e+05]\n",
      "Presolve removed 389 rows and 338 columns\n",
      "Presolve time: 0.02s\n",
      "Presolved: 1033 rows, 838 columns, 4255 nonzeros\n",
      "Variable types: 382 continuous, 456 integer (456 binary)\n",
      "\n",
      "Root relaxation: objective 6.028589e+00, 1041 iterations, 0.09 seconds (0.04 work units)\n",
      "\n",
      "    Nodes    |    Current Node    |     Objective Bounds      |     Work\n",
      " Expl Unexpl |  Obj  Depth IntInf | Incumbent    BestBd   Gap | It/Node Time\n",
      "\n",
      "     0     0    6.02859    0  291          -    6.02859      -     -    0s\n",
      "     0     0    6.89052    0  306          -    6.89052      -     -    0s\n",
      "     0     0    6.90136    0  334          -    6.90136      -     -    0s\n",
      "     0     0    6.90142    0  335          -    6.90142      -     -    0s\n",
      "     0     0    7.05034    0  338          -    7.05034      -     -    0s\n",
      "     0     0    7.05206    0  354          -    7.05206      -     -    0s\n",
      "     0     0    7.05214    0  344          -    7.05214      -     -    0s\n",
      "     0     0    7.14654    0  298          -    7.14654      -     -    0s\n",
      "     0     0    7.14926    0  293          -    7.14926      -     -    0s\n",
      "     0     0    7.15403    0  305          -    7.15403      -     -    1s\n",
      "     0     0    7.15435    0  305          -    7.15435      -     -    1s\n",
      "     0     0    7.15471    0  305          -    7.15471      -     -    1s\n",
      "     0     2    7.15656    0  305          -    7.15656      -     -    1s\n",
      "  1313  1247   10.82109   10  325          -    8.17662      -   118    5s\n",
      "  2342  2023    8.59952   19  311          -    8.59952      -   2.5   10s\n",
      "  2879  2419   11.93982   29  272          -    8.71821      -  31.9   15s\n",
      "  4458  3232   17.27205   51  160          -    9.04986      -  53.4   20s\n",
      "  6919  4421   15.97717   47  147          -    9.49686      -  64.5   25s\n",
      "  9197  5828   10.81196   22  247          -    9.59688      -  69.5   30s\n",
      " 10999  7046   16.09005   42  140          -    9.80564      -  71.0   35s\n",
      "*11990  3979              63      15.6213446    9.84741  37.0%  72.3   37s\n",
      "H12237  3367                      15.1449534    9.84741  35.0%  72.4   38s\n",
      "H12457  3394                      15.0254131    9.84741  34.5%  72.4   39s\n",
      "H12724  2297                      13.7152914    9.84741  28.2%  73.2   40s\n",
      " 14012  2732   13.17348   32  318   13.71529   10.15563  26.0%  76.5   45s\n",
      " 15066  2912   12.31534   28  162   13.71529   10.49553  23.5%  78.2   50s\n",
      "H15153  2766                      13.5204185   10.49553  22.4%  78.4   52s\n",
      " 15628  3010   11.24542   24  272   13.52042   10.62015  21.5%  79.3   55s\n",
      " 16653  3200   13.30055   33  179   13.52042   10.71636  20.7%  80.9   60s\n",
      "H16676  2825                      13.1690228   10.71636  18.6%  80.9   60s\n",
      " 17869  3096   11.26326   28  229   13.16902   10.90165  17.2%  82.4   65s\n",
      " 19670  3302     cutoff   31        13.16902   11.03098  16.2%  84.0   72s\n",
      " 20128  3475     cutoff   33        13.16902   11.03098  16.2%  84.4   76s\n",
      " 21486  3665   12.92669   35  244   13.16902   11.19727  15.0%  85.4   80s\n",
      " 23022  3827   12.76573   27  288   13.16902   11.29058  14.3%  86.5   85s\n",
      " 24776  3995     cutoff   34        13.16902   11.41800  13.3%  87.5   90s\n",
      " 26840  4124     cutoff   30        13.16902   11.52406  12.5%  87.8   96s\n",
      " 28950  4162   12.84806   29  179   13.16902   11.63860  11.6%  88.5  102s\n",
      " 30207  4154     cutoff   31        13.16902   11.66730  11.4%  88.4  105s\n",
      " 31456  4154   13.09625   32  215   13.16902   11.73575  10.9%  88.6  113s\n",
      " 32123  4098 infeasible   33        13.16902   11.74911  10.8%  88.8  116s\n",
      " 33337  4085   12.71043   33  298   13.16902   11.79999  10.4%  88.9  120s\n",
      " 36377  3948   12.60775   29  280   13.16902   11.95843  9.19%  88.9  128s\n",
      " 37982  3780     cutoff   33        13.16902   12.02463  8.69%  88.7  132s\n",
      " 39744  3574   12.91267   30  319   13.16902   12.10051  8.11%  88.4  136s\n",
      " 41499  3311     cutoff   28        13.16902   12.18942  7.44%  88.2  140s\n",
      "H42253  1076                      12.4801925   12.19390  2.29%  88.0  140s\n",
      "\n",
      "Cutting planes:\n",
      "  Gomory: 17\n",
      "  Cover: 37\n",
      "  MIR: 29\n",
      "  StrongCG: 1\n",
      "  Flow cover: 61\n",
      "  Inf proof: 41\n",
      "  Mod-K: 3\n",
      "  RLT: 142\n",
      "  BQP: 86\n",
      "\n",
      "Explored 44461 nodes (4083961 simplex iterations) in 142.87 seconds (35.19 work units)\n",
      "Thread count was 22 (of 22 available processors)\n",
      "\n",
      "Solution count 8: 12.4802 12.4802 13.169 ... 15.6213\n",
      "\n",
      "Optimal solution found (tolerance 1.00e-04)\n",
      "Best objective 1.248019253386e+01, best bound 1.248019253386e+01, gap 0.0000%\n"
     ]
    }
   ],
   "source": [
    "m.optimize()"
   ]
  },
  {
   "cell_type": "code",
   "execution_count": 11,
   "id": "5909c8e0",
   "metadata": {},
   "outputs": [
    {
     "name": "stdout",
     "output_type": "stream",
     "text": [
      "The number of cut edges is 12.480192533864251\n",
      "District 0 has population 752826 and contains counties ['Faulkner', 'Conway', 'Pulaski', 'Pope', 'Logan', 'Carroll', 'Van Buren', 'Johnson', 'Searcy', 'Scott', 'Perry', 'Yell', 'Newton']\n",
      "\n",
      "District 1 has population 751754 and contains counties ['Franklin', 'Crawford', 'Benton', 'Madison', 'Sebastian', 'Washington']\n",
      "\n",
      "District 2 has population 753942 and contains counties ['Jackson', 'Clay', 'Baxter', 'Boone', 'St. Francis', 'Sharp', 'Greene', 'Woodruff', 'White', 'Crittenden', 'Marion', 'Prairie', 'Lawrence', 'Poinsett', 'Stone', 'Independence', 'Lonoke', 'Fulton', 'Randolph', 'Izard', 'Craighead', 'Cleburne', 'Mississippi', 'Cross']\n",
      "\n",
      "District 3 has population 753002 and contains counties ['Little River', 'Ashley', 'Desha', 'Montgomery', 'Lee', 'Howard', 'Nevada', 'Grant', 'Dallas', 'Cleveland', 'Lafayette', 'Saline', 'Chicot', 'Bradley', 'Drew', 'Pike', 'Union', 'Hempstead', 'Polk', 'Clark', 'Miller', 'Arkansas', 'Garland', 'Sevier', 'Jefferson', 'Lincoln', 'Hot Spring', 'Columbia', 'Ouachita', 'Monroe', 'Calhoun', 'Phillips']\n",
      "\n"
     ]
    }
   ],
   "source": [
    "print(\"The number of cut edges is\",m.objval)\n",
    "\n",
    "districts = [[i for i in G.nodes if x[i,j].x > 0.5] for j in range(k)]\n",
    "district_counties = [[G.nodes[i][\"NAME20\"] for i in districts[j] ] for j in range(k)]\n",
    "district_populations = [sum(G.nodes[i][\"TOTPOP\"] for i in districts[j]) for j in range(k)]\n",
    "\n",
    "for j in range(k):\n",
    "    print(\"District\",j,\"has population\",district_populations[j],\"and contains counties\",district_counties[j])\n",
    "    print(\"\")"
   ]
  },
  {
   "cell_type": "code",
   "execution_count": 12,
   "id": "6eacfd58",
   "metadata": {},
   "outputs": [],
   "source": [
    "import geopandas as gpd\n",
    "\n",
    "filepath = 'C:\\\\Users\\\\sambo\\\\OneDrive\\\\Desktop\\\\IEM4013 Redistricting Project\\\\'\n",
    "filename = 'AR_county.shp'\n",
    "df = gpd.read_file( filepath + filename)"
   ]
  },
  {
   "cell_type": "code",
   "execution_count": 13,
   "id": "b8eb16ee",
   "metadata": {},
   "outputs": [
    {
     "data": {
      "image/png": "[encoded data removed]",
      "text/plain": [
       "<Figure size 640x480 with 1 Axes>"
      ]
     },
     "metadata": {},
     "output_type": "display_data"
    }
   ],
   "source": [
    "assignment = [ -1 for i in G.nodes ]\n",
    "\n",
    "labeling = { i : j for i in G.nodes for j in range(k) if x[i,j].x > 0.5 }\n",
    "\n",
    "node_with_this_geoid = { G.nodes[i]['GEOID20'] : i for i in G.nodes }\n",
    "\n",
    "for u in range(G.number_of_nodes()):\n",
    "    \n",
    "    geoid = df['GEOID20'][u]\n",
    "    i = node_with_this_geoid[geoid]\n",
    "    assignment[u] = labeling[i]\n",
    "    \n",
    "df['assignment'] = assignment\n",
    "my_fig = df.plot(column='assignment').get_figure()"
   ]
  },
  {
   "cell_type": "code",
   "execution_count": null,
   "id": "8865f335",
   "metadata": {},
   "outputs": [],
   "source": []
  },
  {
   "cell_type": "code",
   "execution_count": null,
   "id": "25e49c74-373c-48c2-8ca7-6cbba100c594",
   "metadata": {},
   "outputs": [],
   "source": []
  }
 ],
 "metadata": {
  "kernelspec": {
   "display_name": "Python 3 (ipykernel)",
   "language": "python",
   "name": "python3"
  },
  "language_info": {
   "codemirror_mode": {
    "name": "ipython",
    "version": 3
   },
   "file_extension": ".py",
   "mimetype": "text/x-python",
   "name": "python",
   "nbconvert_exporter": "python",
   "pygments_lexer": "ipython3",
   "version": "3.10.16"
  }
 },
 "nbformat": 4,
 "nbformat_minor": 5
}
