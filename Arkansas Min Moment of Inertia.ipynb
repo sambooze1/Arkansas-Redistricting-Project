{
 "cells": [
  {
   "cell_type": "code",
   "execution_count": 1,
   "id": "13331ed5",
   "metadata": {},
   "outputs": [],
   "source": [
    "from gerrychain import Graph\n",
    "import gurobipy as gp\n",
    "from gurobipy import GRB\n",
    "import math\n",
    "from geopy.distance import geodesic\n",
    "import geopandas as gpd"
   ]
  },
  {
   "cell_type": "code",
   "execution_count": 2,
   "id": "f5c2868d",
   "metadata": {},
   "outputs": [],
   "source": [
    "#Set filepath and filename equal to the path/name of the data used respectively\n",
    "filepath = 'C:\\\\Users\\\\sambo\\\\OneDrive\\\\Desktop\\\\IEM4013 Redistricting Project\\\\'\n",
    "filename= 'AR_county.json'\n",
    "\n",
    "#Create a new Graph object G from the file\n",
    "G = Graph.from_json(filepath + filename)\n",
    "\n",
    "#\n",
    "for node in G.nodes:\n",
    "    G.nodes[node]['TOTPOP'] = G.nodes[node]['P0010001']\n",
    "    G.nodes[node]['C_X'] = G.nodes[node]['INTPTLON20']\n",
    "    G.nodes[node]['C_Y'] = G.nodes[node]['INTPTLAT20']"
   ]
  },
  {
   "cell_type": "code",
   "execution_count": 3,
   "id": "84dbd5b9",
   "metadata": {},
   "outputs": [],
   "source": [
    "# create distance dictionary\n",
    "dist = { (i,j) : 0 for i in G.nodes for j in G.nodes }\n",
    "for i in G.nodes:\n",
    "    for j in G.nodes:\n",
    "        loc_i = ( G.nodes[i]['C_Y'], G.nodes[i]['C_X'] )\n",
    "        loc_j = ( G.nodes[j]['C_Y'], G.nodes[j]['C_X'] )\n",
    "        dist[i,j] = geodesic(loc_i,loc_j).miles"
   ]
  },
  {
   "cell_type": "code",
   "execution_count": 4,
   "id": "dcf2a071",
   "metadata": {},
   "outputs": [
    {
     "name": "stdout",
     "output_type": "stream",
     "text": [
      "Using L = 749117 and U = 756645 and k = 4\n"
     ]
    }
   ],
   "source": [
    "dev = 0.01\n",
    "\n",
    "\n",
    "k = 4\n",
    "tot_pop = sum(G.nodes[node]['TOTPOP'] for node in G.nodes)\n",
    "\n",
    "L = math.ceil((1-dev/2)*tot_pop/k)\n",
    "U = math.floor((1+dev/2)*tot_pop/k)\n",
    "print(\"Using L =\",L,\"and U =\",U,\"and k =\",k)"
   ]
  },
  {
   "cell_type": "code",
   "execution_count": 5,
   "id": "1f948956",
   "metadata": {},
   "outputs": [
    {
     "name": "stdout",
     "output_type": "stream",
     "text": [
      "Set parameter Username\n",
      "Set parameter LicenseID to value 2663177\n",
      "Academic license - for non-commercial use only - expires 2026-05-09\n"
     ]
    }
   ],
   "source": [
    "\n",
    "\n",
    "m = gp.Model()\n",
    "\n",
    "x = m.addVars(G.nodes, G.nodes, vtype=GRB.BINARY)"
   ]
  },
  {
   "cell_type": "code",
   "execution_count": 6,
   "id": "6a536d9b",
   "metadata": {},
   "outputs": [],
   "source": [
    "m.setObjective( gp.quicksum( dist[i,j] * dist[i,j] * G.nodes[i]['TOTPOP'] * x[i,j] for i in G.nodes for j in G.nodes ), GRB.MINIMIZE )"
   ]
  },
  {
   "cell_type": "code",
   "execution_count": 7,
   "id": "60cb2ab4",
   "metadata": {},
   "outputs": [],
   "source": [
    "# add constraints saying that each county i is assigned to one district\n",
    "m.addConstrs( gp.quicksum( x[i,j] for j in G.nodes ) == 1 for i in G.nodes )\n",
    "\n",
    "# add constraint saying there should be k district centers\n",
    "m.addConstr( gp.quicksum( x[j,j] for j in G.nodes ) == k )\n",
    "\n",
    "# add constraints that say: if j roots a district, then its population is between L and U.\n",
    "m.addConstrs( gp.quicksum( G.nodes[i]['TOTPOP'] * x[i,j] for i in G.nodes ) >= L * x[j,j] for j in G.nodes )\n",
    "m.addConstrs( gp.quicksum( G.nodes[i]['TOTPOP'] * x[i,j] for i in G.nodes ) <= U * x[j,j] for j in G.nodes )\n",
    "\n",
    "# add coupling constraints saying that if i is assigned to j, then j is a center.\n",
    "m.addConstrs( x[i,j] <= x[j,j] for i in G.nodes for j in G.nodes )\n",
    "\n",
    "m.update()"
   ]
  },
  {
   "cell_type": "code",
   "execution_count": 8,
   "id": "671c62f4",
   "metadata": {},
   "outputs": [],
   "source": [
    "# add contiguity constraints\n",
    "import networkx as nx\n",
    "DG = nx.DiGraph(G)\n",
    "\n",
    "# add flow variables\n",
    "#    f[i,j,v] = flow across arc (i,j) that is sent from source/root v\n",
    "f = m.addVars( DG.edges, G.nodes ) \n",
    "\n",
    "# add constraints saying that if node i is assigned to node j, \n",
    "#   then node i must consume one unit of node j's flow\n",
    "m.addConstrs( gp.quicksum( f[u,i,j] - f[i,u,j] for u in G.neighbors(i) ) == x[i,j] for i in G.nodes for j in G.nodes if i != j )\n",
    "\n",
    "# add constraints saying that node i can receive flow of type j \n",
    "#   only if node i is assigned to node j\n",
    "M = G.number_of_nodes() - 1\n",
    "m.addConstrs( gp.quicksum( f[u,i,j] for u in G.neighbors(i) ) <= M * x[i,j] for i in G.nodes for j in G.nodes if i != j )\n",
    "\n",
    "# add constraints saying that node j cannot receive flow of its own type\n",
    "m.addConstrs( gp.quicksum( f[u,j,j] for u in G.neighbors(j) ) == 0 for j in G.nodes )\n",
    "\n",
    "m.update()"
   ]
  },
  {
   "cell_type": "code",
   "execution_count": 9,
   "id": "006dc3fa",
   "metadata": {},
   "outputs": [
    {
     "name": "stdout",
     "output_type": "stream",
     "text": [
      "Set parameter MIPGap to value 0\n",
      "Gurobi Optimizer version 12.0.2 build v12.0.2rc0 (win64 - Windows 11.0 (26100.2))\n",
      "\n",
      "CPU model: Intel(R) Core(TM) Ultra 7 155H, instruction set [SSE2|AVX|AVX2]\n",
      "Thread count: 16 physical cores, 22 logical processors, using up to 22 threads\n",
      "\n",
      "Non-default parameters:\n",
      "MIPGap  0\n",
      "\n",
      "Optimize a model with 17026 rows, 34425 columns and 124782 nonzeros\n",
      "Model fingerprint: 0x1234a37a\n",
      "Variable types: 28800 continuous, 5625 integer (5625 binary)\n",
      "Coefficient statistics:\n",
      "  Matrix range     [1e+00, 8e+05]\n",
      "  Objective range  [2e+06, 2e+10]\n",
      "  Bounds range     [1e+00, 1e+00]\n",
      "  RHS range        [1e+00, 4e+00]\n",
      "Warning: Model contains large objective coefficients\n",
      "         Consider reformulating model or setting NumericFocus parameter\n",
      "         to avoid numerical issues.\n",
      "Presolve removed 161 rows and 398 columns\n",
      "Presolve time: 0.83s\n",
      "Presolved: 16865 rows, 34027 columns, 123984 nonzeros\n",
      "Variable types: 28402 continuous, 5625 integer (5625 binary)\n",
      "Deterministic concurrent LP optimizer: primal and dual simplex\n",
      "Showing primal log only...\n",
      "\n",
      "Concurrent spin time: 0.15s (can be avoided by choosing Method=3)\n",
      "\n",
      "Solved with dual simplex\n",
      "\n",
      "Root relaxation: objective 6.308102e+09, 2387 iterations, 1.07 seconds (0.49 work units)\n",
      "\n",
      "    Nodes    |    Current Node    |     Objective Bounds      |     Work\n",
      " Expl Unexpl |  Obj  Depth IntInf | Incumbent    BestBd   Gap | It/Node Time\n",
      "\n",
      "     0     0 6.3081e+09    0   44          - 6.3081e+09      -     -    2s\n",
      "     0     0 6.3997e+09    0  158          - 6.3997e+09      -     -    4s\n",
      "H    0     0                    7.056877e+09 6.4017e+09  9.28%     -    4s\n",
      "H    0     0                    7.032977e+09 6.4017e+09  8.98%     -    4s\n",
      "H    0     0                    7.019400e+09 6.4017e+09  8.80%     -    4s\n",
      "H    0     0                    7.010040e+09 6.4017e+09  8.68%     -    4s\n",
      "H    0     0                    6.983794e+09 6.4017e+09  8.34%     -    4s\n",
      "     0     0 6.4195e+09    0  125 6.9838e+09 6.4195e+09  8.08%     -    4s\n",
      "     0     0 6.4195e+09    0  124 6.9838e+09 6.4195e+09  8.08%     -    4s\n",
      "     0     0 6.4756e+09    0  148 6.9838e+09 6.4756e+09  7.28%     -    5s\n",
      "     0     0 6.4756e+09    0   44 6.9838e+09 6.4756e+09  7.28%     -    6s\n",
      "     0     0 6.4756e+09    0  173 6.9838e+09 6.4756e+09  7.28%     -    7s\n",
      "     0     0 6.4904e+09    0  146 6.9838e+09 6.4904e+09  7.06%     -    7s\n",
      "     0     0 6.5183e+09    0  148 6.9838e+09 6.5183e+09  6.67%     -    7s\n",
      "     0     0 6.5206e+09    0  146 6.9838e+09 6.5206e+09  6.63%     -    7s\n",
      "     0     0 6.5206e+09    0  145 6.9838e+09 6.5206e+09  6.63%     -    7s\n",
      "     0     0 6.5625e+09    0  231 6.9838e+09 6.5625e+09  6.03%     -    8s\n",
      "     0     0 6.5626e+09    0  234 6.9838e+09 6.5626e+09  6.03%     -    8s\n",
      "     0     0 6.5626e+09    0  234 6.9838e+09 6.5626e+09  6.03%     -    8s\n",
      "     0     0 6.6580e+09    0  226 6.9838e+09 6.6580e+09  4.66%     -    9s\n",
      "H    0     0                    6.883477e+09 6.6580e+09  3.28%     -    9s\n",
      "     0     0 6.6713e+09    0  233 6.8835e+09 6.6713e+09  3.08%     -    9s\n",
      "     0     0 6.6790e+09    0  231 6.8835e+09 6.6790e+09  2.97%     -    9s\n",
      "     0     0 6.6790e+09    0  233 6.8835e+09 6.6790e+09  2.97%     -    9s\n",
      "H    0     0                    6.861489e+09 6.7251e+09  1.99%     -   10s\n",
      "     0     0 6.7251e+09    0  261 6.8615e+09 6.7251e+09  1.99%     -   10s\n",
      "     0     0 6.7251e+09    0   44 6.8615e+09 6.7251e+09  1.99%     -   11s\n",
      "H    0     0                    6.835095e+09 6.7251e+09  1.61%     -   11s\n",
      "     0     0 6.7251e+09    0  226 6.8351e+09 6.7251e+09  1.61%     -   11s\n",
      "     0     0 6.7251e+09    0  229 6.8351e+09 6.7251e+09  1.61%     -   12s\n",
      "     0     0 6.7251e+09    0  224 6.8351e+09 6.7251e+09  1.61%     -   12s\n",
      "     0     0 6.7251e+09    0  229 6.8351e+09 6.7251e+09  1.61%     -   12s\n",
      "     0     0 6.7251e+09    0  232 6.8351e+09 6.7251e+09  1.61%     -   12s\n",
      "     0     0 6.7251e+09    0  233 6.8351e+09 6.7251e+09  1.61%     -   12s\n",
      "     0     0 6.7251e+09    0  232 6.8351e+09 6.7251e+09  1.61%     -   12s\n",
      "     0     0 6.7251e+09    0  222 6.8351e+09 6.7251e+09  1.61%     -   12s\n",
      "     0     0 6.7251e+09    0  171 6.8351e+09 6.7251e+09  1.61%     -   12s\n",
      "     0     0 6.7251e+09    0  224 6.8351e+09 6.7251e+09  1.61%     -   12s\n",
      "     0     0 6.7251e+09    0  226 6.8351e+09 6.7251e+09  1.61%     -   12s\n",
      "     0     0 6.7885e+09    0  244 6.8351e+09 6.7885e+09  0.68%     -   13s\n",
      "     0     0 6.7959e+09    0  298 6.8351e+09 6.7959e+09  0.57%     -   13s\n",
      "     0     0 6.8000e+09    0  250 6.8351e+09 6.8000e+09  0.51%     -   13s\n",
      "     0     0 6.8314e+09    0  287 6.8351e+09 6.8314e+09  0.05%     -   14s\n",
      "     0     0 6.8340e+09    0  287 6.8351e+09 6.8340e+09  0.02%     -   14s\n",
      "     0     2 6.8340e+09    0  287 6.8351e+09 6.8340e+09  0.02%     -   14s\n",
      "    35    20 6.8340e+09    8   40 6.8351e+09 6.8340e+09  0.02%  86.4   15s\n",
      "\n",
      "Cutting planes:\n",
      "  Gomory: 1\n",
      "  Lift-and-project: 1\n",
      "  Cover: 41\n",
      "  Implied bound: 1\n",
      "  MIR: 7\n",
      "  StrongCG: 1\n",
      "  Flow cover: 28\n",
      "  GUB cover: 5\n",
      "  Network: 1\n",
      "  RLT: 9\n",
      "\n",
      "Explored 93 nodes (11913 simplex iterations) in 15.22 seconds (4.76 work units)\n",
      "Thread count was 22 (of 22 available processors)\n",
      "\n",
      "Solution count 8: 6.8351e+09 6.86149e+09 6.88348e+09 ... 7.05688e+09\n",
      "\n",
      "Optimal solution found (tolerance 0.00e+00)\n",
      "Best objective 6.835095216711e+09, best bound 6.835095216711e+09, gap 0.0000%\n"
     ]
    }
   ],
   "source": [
    "m.Params.MIPGap = 0.0\n",
    "\n",
    "m.optimize()"
   ]
  },
  {
   "cell_type": "code",
   "execution_count": 10,
   "id": "98ea8cdd",
   "metadata": {},
   "outputs": [
    {
     "name": "stdout",
     "output_type": "stream",
     "text": [
      "6835095216.710739\n",
      "District 0 has population 753326 and contains counties ['Jackson', 'Clay', 'Baxter', 'St. Francis', 'Sharp', 'Greene', 'Woodruff', 'White', 'Lee', 'Crittenden', 'Marion', 'Prairie', 'Lawrence', 'Poinsett', 'Independence', 'Lonoke', 'Fulton', 'Arkansas', 'Randolph', 'Izard', 'Craighead', 'Cleburne', 'Monroe', 'Mississippi', 'Cross', 'Phillips']\n",
      "\n",
      "District 1 has population 749461 and contains counties ['Franklin', 'Faulkner', 'Boone', 'Conway', 'Pulaski', 'Madison', 'Pope', 'Stone', 'Van Buren', 'Johnson', 'Searcy', 'Perry']\n",
      "\n",
      "District 2 has population 755116 and contains counties ['Little River', 'Ashley', 'Desha', 'Montgomery', 'Howard', 'Nevada', 'Grant', 'Dallas', 'Cleveland', 'Lafayette', 'Saline', 'Chicot', 'Bradley', 'Drew', 'Pike', 'Union', 'Hempstead', 'Polk', 'Clark', 'Logan', 'Miller', 'Garland', 'Sevier', 'Jefferson', 'Lincoln', 'Scott', 'Hot Spring', 'Columbia', 'Ouachita', 'Yell', 'Calhoun']\n",
      "\n",
      "District 3 has population 753621 and contains counties ['Crawford', 'Benton', 'Sebastian', 'Carroll', 'Washington', 'Newton']\n",
      "\n"
     ]
    }
   ],
   "source": [
    "# print the objective value\n",
    "print(m.objVal)\n",
    "\n",
    "# retrieve the districts and their populations\n",
    "#    but first get the district \"centers\"\n",
    "\n",
    "centers = [ j for j in G.nodes if x[j,j].x > 0.5 ]\n",
    "\n",
    "districts = [ [ i for i in G.nodes if x[i,j].x > 0.5 ] for j in centers ]\n",
    "district_counties = [ [ G.nodes[i][\"NAME20\"] for i in districts[j] ] for j in range(k)]\n",
    "district_populations = [ sum(G.nodes[i][\"TOTPOP\"] for i in districts[j]) for j in range(k) ]\n",
    "\n",
    "# print district info\n",
    "for j in range(k):\n",
    "    print(\"District\",j,\"has population\",district_populations[j],\"and contains counties\",district_counties[j])\n",
    "    print(\"\")"
   ]
  },
  {
   "cell_type": "code",
   "execution_count": 11,
   "id": "00223ea0",
   "metadata": {},
   "outputs": [],
   "source": [
    "filepath = 'C:\\\\Users\\\\sambo\\\\OneDrive\\\\Desktop\\\\IEM4013 Redistricting Project\\\\'\n",
    "filename = 'AR_county.shp'\n",
    "df = gpd.read_file( filepath + filename)"
   ]
  },
  {
   "cell_type": "code",
   "execution_count": 12,
   "id": "19fa7a04",
   "metadata": {},
   "outputs": [
    {
     "data": {
      "image/png": "[encoded data removed]",
      "text/plain": [
       "<Figure size 640x480 with 1 Axes>"
      ]
     },
     "metadata": {},
     "output_type": "display_data"
    }
   ],
   "source": [
    "# Which district is each county assigned to?\n",
    "assignment = [ -1 for i in G.nodes ]\n",
    "\n",
    "labeling = { i : -1 for i in G.nodes }\n",
    "for j in range(k):\n",
    "    district = districts[j]\n",
    "    for i in district:\n",
    "        labeling[i] = j\n",
    "\n",
    "# Now add the assignments to a column of the dataframe and map it\n",
    "node_with_this_geoid = { G.nodes[i]['GEOID20'] : i for i in G.nodes }\n",
    "\n",
    "# pick a position u in the dataframe\n",
    "for u in range(G.number_of_nodes()):\n",
    "    \n",
    "    geoid = df['GEOID20'][u]\n",
    "    \n",
    "    # what node in G has this geoid?\n",
    "    i = node_with_this_geoid[geoid]\n",
    "    \n",
    "    # position u in the dataframe should be given\n",
    "    # the same district # that county i has in 'labeling'\n",
    "    assignment[u] = labeling[i]\n",
    "    \n",
    "# now add the assignments to a column of our dataframe and then map it\n",
    "df['assignment'] = assignment\n",
    "\n",
    "my_fig = df.plot(column='assignment').get_figure()"
   ]
  },
  {
   "cell_type": "code",
   "execution_count": null,
   "id": "463a5d82",
   "metadata": {},
   "outputs": [],
   "source": []
  }
 ],
 "metadata": {
  "kernelspec": {
   "display_name": "Python 3 (ipykernel)",
   "language": "python",
   "name": "python3"
  },
  "language_info": {
   "codemirror_mode": {
    "name": "ipython",
    "version": 3
   },
   "file_extension": ".py",
   "mimetype": "text/x-python",
   "name": "python",
   "nbconvert_exporter": "python",
   "pygments_lexer": "ipython3",
   "version": "3.10.16"
  }
 },
 "nbformat": 4,
 "nbformat_minor": 5
}
